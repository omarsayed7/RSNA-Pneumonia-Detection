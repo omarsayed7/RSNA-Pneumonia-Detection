{
  "nbformat": 4,
  "nbformat_minor": 0,
  "metadata": {
    "colab": {
      "name": "COVID-19.ipynb",
      "provenance": [],
      "collapsed_sections": [],
      "toc_visible": true,
      "include_colab_link": true
    },
    "kernelspec": {
      "name": "python3",
      "display_name": "Python 3"
    }
  },
  "cells": [
    {
      "cell_type": "markdown",
      "metadata": {
        "id": "view-in-github",
        "colab_type": "text"
      },
      "source": [
        "<a href=\"https://colab.research.google.com/github/omarsayed7/RSNA-Pneumonia-Detection/blob/master/COVID_19.ipynb\" target=\"_parent\"><img src=\"https://colab.research.google.com/assets/colab-badge.svg\" alt=\"Open In Colab\"/></a>"
      ]
    },
    {
      "cell_type": "markdown",
      "metadata": {
        "id": "__A3upNLVzOd",
        "colab_type": "text"
      },
      "source": [
        "# Data download"
      ]
    },
    {
      "cell_type": "code",
      "metadata": {
        "id": "1iGDwxWySJ69",
        "colab_type": "code",
        "outputId": "bf306032-bba9-46c2-ce4c-b5b946342e56",
        "colab": {
          "base_uri": "https://localhost:8080/",
          "height": 151
        }
      },
      "source": [
        "!git clone https://github.com/ieee8023/covid-chestxray-dataset"
      ],
      "execution_count": 1,
      "outputs": [
        {
          "output_type": "stream",
          "text": [
            "Cloning into 'covid-chestxray-dataset'...\n",
            "remote: Enumerating objects: 26, done.\u001b[K\n",
            "remote: Counting objects:   3% (1/26)\u001b[K\rremote: Counting objects:   7% (2/26)\u001b[K\rremote: Counting objects:  11% (3/26)\u001b[K\rremote: Counting objects:  15% (4/26)\u001b[K\rremote: Counting objects:  19% (5/26)\u001b[K\rremote: Counting objects:  23% (6/26)\u001b[K\rremote: Counting objects:  26% (7/26)\u001b[K\rremote: Counting objects:  30% (8/26)\u001b[K\rremote: Counting objects:  34% (9/26)\u001b[K\rremote: Counting objects:  38% (10/26)\u001b[K\rremote: Counting objects:  42% (11/26)\u001b[K\rremote: Counting objects:  46% (12/26)\u001b[K\rremote: Counting objects:  50% (13/26)\u001b[K\rremote: Counting objects:  53% (14/26)\u001b[K\rremote: Counting objects:  57% (15/26)\u001b[K\rremote: Counting objects:  61% (16/26)\u001b[K\rremote: Counting objects:  65% (17/26)\u001b[K\rremote: Counting objects:  69% (18/26)\u001b[K\rremote: Counting objects:  73% (19/26)\u001b[K\rremote: Counting objects:  76% (20/26)\u001b[K\rremote: Counting objects:  80% (21/26)\u001b[K\rremote: Counting objects:  84% (22/26)\u001b[K\rremote: Counting objects:  88% (23/26)\u001b[K\rremote: Counting objects:  92% (24/26)\u001b[K\rremote: Counting objects:  96% (25/26)\u001b[K\rremote: Counting objects: 100% (26/26)\u001b[K\rremote: Counting objects: 100% (26/26), done.\u001b[K\n",
            "remote: Compressing objects: 100% (21/21), done.\u001b[K\n",
            "remote: Total 1642 (delta 6), reused 19 (delta 5), pack-reused 1616\u001b[K\n",
            "Receiving objects: 100% (1642/1642), 220.72 MiB | 37.12 MiB/s, done.\n",
            "Resolving deltas: 100% (780/780), done.\n",
            "Checking out files: 100% (356/356), done.\n"
          ],
          "name": "stdout"
        }
      ]
    },
    {
      "cell_type": "code",
      "metadata": {
        "id": "tYlhsxDvaVwx",
        "colab_type": "code",
        "outputId": "52477e49-00ce-4bec-b69a-98717e93c931",
        "colab": {
          "base_uri": "https://localhost:8080/",
          "height": 121
        }
      },
      "source": [
        "from google.colab import drive\n",
        "drive.mount('/content/drive')"
      ],
      "execution_count": 2,
      "outputs": [
        {
          "output_type": "stream",
          "text": [
            "Go to this URL in a browser: https://accounts.google.com/o/oauth2/auth?client_id=947318989803-6bn6qk8qdgf4n4g3pfee6491hc0brc4i.apps.googleusercontent.com&redirect_uri=urn%3aietf%3awg%3aoauth%3a2.0%3aoob&response_type=code&scope=email%20https%3a%2f%2fwww.googleapis.com%2fauth%2fdocs.test%20https%3a%2f%2fwww.googleapis.com%2fauth%2fdrive%20https%3a%2f%2fwww.googleapis.com%2fauth%2fdrive.photos.readonly%20https%3a%2f%2fwww.googleapis.com%2fauth%2fpeopleapi.readonly\n",
            "\n",
            "Enter your authorization code:\n",
            "··········\n",
            "Mounted at /content/drive\n"
          ],
          "name": "stdout"
        }
      ]
    },
    {
      "cell_type": "code",
      "metadata": {
        "id": "BvbFuL5GbMB_",
        "colab_type": "code",
        "colab": {}
      },
      "source": [
        "%cp -r drive/My\\ Drive/normal ./"
      ],
      "execution_count": 0,
      "outputs": []
    },
    {
      "cell_type": "code",
      "metadata": {
        "id": "cv81US8OSPfT",
        "colab_type": "code",
        "outputId": "255b0562-3846-47a0-c52e-28397c112047",
        "colab": {
          "base_uri": "https://localhost:8080/",
          "height": 50
        }
      },
      "source": [
        "import os, random, cv2, shutil\n",
        "import pandas as pd\n",
        "import numpy as np\n",
        "import matplotlib.pyplot as plt\n",
        "import matplotlib.patches as patches\n",
        "import keras\n",
        "from keras.models import Model\n",
        "from keras.preprocessing.image import ImageDataGenerator\n",
        "from keras.layers import Input, Dense, Dropout,Flatten, AveragePooling2D, GlobalAveragePooling2D, Concatenate\n",
        "import keras.optimizers as optimizers\n",
        "from keras.layers.normalization import BatchNormalization\n",
        "from keras.layers.convolutional import Convolution2D, MaxPooling2D\n",
        "from keras.utils import plot_model\n",
        "\n",
        "from sklearn.metrics import classification_report\n",
        "from sklearn.metrics import confusion_matrix\n",
        "keras.__version__"
      ],
      "execution_count": 4,
      "outputs": [
        {
          "output_type": "stream",
          "text": [
            "Using TensorFlow backend.\n"
          ],
          "name": "stderr"
        },
        {
          "output_type": "execute_result",
          "data": {
            "text/plain": [
              "'2.3.1'"
            ]
          },
          "metadata": {
            "tags": []
          },
          "execution_count": 4
        }
      ]
    },
    {
      "cell_type": "markdown",
      "metadata": {
        "id": "r5VkWwvQVv7y",
        "colab_type": "text"
      },
      "source": [
        "# Overview"
      ]
    },
    {
      "cell_type": "code",
      "metadata": {
        "id": "EaTBqI6wVBkm",
        "colab_type": "code",
        "colab": {}
      },
      "source": [
        "metadata = pd.read_csv(\"covid-chestxray-dataset/metadata.csv\")"
      ],
      "execution_count": 0,
      "outputs": []
    },
    {
      "cell_type": "code",
      "metadata": {
        "id": "IVWa7vozVEKA",
        "colab_type": "code",
        "outputId": "8f3f4f36-a1a9-4ac1-9287-0180f00d2325",
        "colab": {
          "base_uri": "https://localhost:8080/",
          "height": 605
        }
      },
      "source": [
        "metadata.info()"
      ],
      "execution_count": 6,
      "outputs": [
        {
          "output_type": "stream",
          "text": [
            "<class 'pandas.core.frame.DataFrame'>\n",
            "RangeIndex: 360 entries, 0 to 359\n",
            "Data columns (total 28 columns):\n",
            " #   Column                  Non-Null Count  Dtype  \n",
            "---  ------                  --------------  -----  \n",
            " 0   patientid               360 non-null    int64  \n",
            " 1   offset                  264 non-null    float64\n",
            " 2   sex                     317 non-null    object \n",
            " 3   age                     306 non-null    float64\n",
            " 4   finding                 360 non-null    object \n",
            " 5   survival                109 non-null    object \n",
            " 6   intubated               72 non-null     object \n",
            " 7   intubation_present      63 non-null     object \n",
            " 8   went_icu                27 non-null     object \n",
            " 9   needed_supplemental_O2  6 non-null      object \n",
            " 10  extubated               16 non-null     object \n",
            " 11  temperature             29 non-null     float64\n",
            " 12  pO2_saturation          38 non-null     float64\n",
            " 13  leukocyte_count         9 non-null      float64\n",
            " 14  neutrophil_count        2 non-null      float64\n",
            " 15  lymphocyte_count        8 non-null      float64\n",
            " 16  view                    360 non-null    object \n",
            " 17  modality                360 non-null    object \n",
            " 18  date                    291 non-null    object \n",
            " 19  location                242 non-null    object \n",
            " 20  folder                  360 non-null    object \n",
            " 21  filename                360 non-null    object \n",
            " 22  doi                     104 non-null    object \n",
            " 23  url                     360 non-null    object \n",
            " 24  license                 197 non-null    object \n",
            " 25  clinical_notes          350 non-null    object \n",
            " 26  other_notes             222 non-null    object \n",
            " 27  Unnamed: 27             4 non-null      object \n",
            "dtypes: float64(7), int64(1), object(20)\n",
            "memory usage: 78.9+ KB\n"
          ],
          "name": "stdout"
        }
      ]
    },
    {
      "cell_type": "markdown",
      "metadata": {
        "id": "-9gjByyIV7fb",
        "colab_type": "text"
      },
      "source": [
        "# Data preperation "
      ]
    },
    {
      "cell_type": "code",
      "metadata": {
        "id": "e8Xyt76MVGf6",
        "colab_type": "code",
        "colab": {}
      },
      "source": [
        "data_info = metadata.dropna(axis=1)"
      ],
      "execution_count": 0,
      "outputs": []
    },
    {
      "cell_type": "code",
      "metadata": {
        "id": "1JmS1kM3ZNQO",
        "colab_type": "code",
        "colab": {}
      },
      "source": [
        "data_info = data_info.drop(['url'],axis=1)"
      ],
      "execution_count": 0,
      "outputs": []
    },
    {
      "cell_type": "code",
      "metadata": {
        "id": "EzEw_V_xazP4",
        "colab_type": "code",
        "colab": {}
      },
      "source": [
        "data = data_info.drop(data_info[data_info['modality']=='CT'].index, axis=0)"
      ],
      "execution_count": 0,
      "outputs": []
    },
    {
      "cell_type": "code",
      "metadata": {
        "id": "QbAktW-qg-7A",
        "colab_type": "code",
        "colab": {}
      },
      "source": [
        "final_data = data_info[data_info['view']=='PA']"
      ],
      "execution_count": 0,
      "outputs": []
    },
    {
      "cell_type": "code",
      "metadata": {
        "id": "oe3HZKn5hzNN",
        "colab_type": "code",
        "colab": {}
      },
      "source": [
        "final_data = final_data[final_data['finding']=='COVID-19']"
      ],
      "execution_count": 0,
      "outputs": []
    },
    {
      "cell_type": "code",
      "metadata": {
        "id": "gx3hQr3fiIFk",
        "colab_type": "code",
        "outputId": "ade99226-636a-46e2-fca0-80618896ec19",
        "colab": {
          "base_uri": "https://localhost:8080/",
          "height": 235
        }
      },
      "source": [
        "final_data.info()"
      ],
      "execution_count": 13,
      "outputs": [
        {
          "output_type": "stream",
          "text": [
            "<class 'pandas.core.frame.DataFrame'>\n",
            "Int64Index: 145 entries, 0 to 358\n",
            "Data columns (total 6 columns):\n",
            " #   Column     Non-Null Count  Dtype \n",
            "---  ------     --------------  ----- \n",
            " 0   patientid  145 non-null    int64 \n",
            " 1   finding    145 non-null    object\n",
            " 2   view       145 non-null    object\n",
            " 3   modality   145 non-null    object\n",
            " 4   folder     145 non-null    object\n",
            " 5   filename   145 non-null    object\n",
            "dtypes: int64(1), object(5)\n",
            "memory usage: 7.9+ KB\n"
          ],
          "name": "stdout"
        }
      ]
    },
    {
      "cell_type": "markdown",
      "metadata": {
        "id": "aOWPg1ArltQF",
        "colab_type": "text"
      },
      "source": [
        "\n",
        "\n",
        "---\n",
        "\n",
        "\n",
        "**I have considered the COVID-19 PA view X-ray scans for my analysis**\n",
        "\n",
        "\n",
        "---\n",
        "\n",
        "\n",
        "\n",
        "\n",
        "\n"
      ]
    },
    {
      "cell_type": "code",
      "metadata": {
        "id": "W007O7WIj1VW",
        "colab_type": "code",
        "colab": {}
      },
      "source": [
        "positive_covid =final_data.drop(['view'],axis=1)\n",
        "positive_covid =positive_covid.drop(['modality'],axis=1)\n",
        "positive_covid =positive_covid.drop(['finding'],axis=1)\n",
        "positive_covid =positive_covid.drop(['folder'],axis=1)"
      ],
      "execution_count": 0,
      "outputs": []
    },
    {
      "cell_type": "code",
      "metadata": {
        "id": "L6p5TlfbkcHB",
        "colab_type": "code",
        "outputId": "fce1b187-a4cc-4f8f-b9bc-9e92e89e6f67",
        "colab": {
          "base_uri": "https://localhost:8080/",
          "height": 168
        }
      },
      "source": [
        "positive_covid.info()"
      ],
      "execution_count": 15,
      "outputs": [
        {
          "output_type": "stream",
          "text": [
            "<class 'pandas.core.frame.DataFrame'>\n",
            "Int64Index: 145 entries, 0 to 358\n",
            "Data columns (total 2 columns):\n",
            " #   Column     Non-Null Count  Dtype \n",
            "---  ------     --------------  ----- \n",
            " 0   patientid  145 non-null    int64 \n",
            " 1   filename   145 non-null    object\n",
            "dtypes: int64(1), object(1)\n",
            "memory usage: 3.4+ KB\n"
          ],
          "name": "stdout"
        }
      ]
    },
    {
      "cell_type": "code",
      "metadata": {
        "id": "UzecUt4KlAgo",
        "colab_type": "code",
        "outputId": "647a0ed6-f7a5-4b3f-fd34-d0c90a776267",
        "colab": {
          "base_uri": "https://localhost:8080/",
          "height": 195
        }
      },
      "source": [
        "positive_covid.head()"
      ],
      "execution_count": 16,
      "outputs": [
        {
          "output_type": "execute_result",
          "data": {
            "text/html": [
              "<div>\n",
              "<style scoped>\n",
              "    .dataframe tbody tr th:only-of-type {\n",
              "        vertical-align: middle;\n",
              "    }\n",
              "\n",
              "    .dataframe tbody tr th {\n",
              "        vertical-align: top;\n",
              "    }\n",
              "\n",
              "    .dataframe thead th {\n",
              "        text-align: right;\n",
              "    }\n",
              "</style>\n",
              "<table border=\"1\" class=\"dataframe\">\n",
              "  <thead>\n",
              "    <tr style=\"text-align: right;\">\n",
              "      <th></th>\n",
              "      <th>patientid</th>\n",
              "      <th>filename</th>\n",
              "    </tr>\n",
              "  </thead>\n",
              "  <tbody>\n",
              "    <tr>\n",
              "      <th>0</th>\n",
              "      <td>2</td>\n",
              "      <td>auntminnie-a-2020_01_28_23_51_6665_2020_01_28_...</td>\n",
              "    </tr>\n",
              "    <tr>\n",
              "      <th>1</th>\n",
              "      <td>2</td>\n",
              "      <td>auntminnie-b-2020_01_28_23_51_6665_2020_01_28_...</td>\n",
              "    </tr>\n",
              "    <tr>\n",
              "      <th>2</th>\n",
              "      <td>2</td>\n",
              "      <td>auntminnie-c-2020_01_28_23_51_6665_2020_01_28_...</td>\n",
              "    </tr>\n",
              "    <tr>\n",
              "      <th>3</th>\n",
              "      <td>2</td>\n",
              "      <td>auntminnie-d-2020_01_28_23_51_6665_2020_01_28_...</td>\n",
              "    </tr>\n",
              "    <tr>\n",
              "      <th>4</th>\n",
              "      <td>4</td>\n",
              "      <td>nejmc2001573_f1a.jpeg</td>\n",
              "    </tr>\n",
              "  </tbody>\n",
              "</table>\n",
              "</div>"
            ],
            "text/plain": [
              "   patientid                                           filename\n",
              "0          2  auntminnie-a-2020_01_28_23_51_6665_2020_01_28_...\n",
              "1          2  auntminnie-b-2020_01_28_23_51_6665_2020_01_28_...\n",
              "2          2  auntminnie-c-2020_01_28_23_51_6665_2020_01_28_...\n",
              "3          2  auntminnie-d-2020_01_28_23_51_6665_2020_01_28_...\n",
              "4          4                              nejmc2001573_f1a.jpeg"
            ]
          },
          "metadata": {
            "tags": []
          },
          "execution_count": 16
        }
      ]
    },
    {
      "cell_type": "code",
      "metadata": {
        "id": "bJnnUppxMKyP",
        "colab_type": "code",
        "colab": {}
      },
      "source": [
        "listtt = positive_covid['filename']"
      ],
      "execution_count": 0,
      "outputs": []
    },
    {
      "cell_type": "code",
      "metadata": {
        "id": "cWK3nEA6V3Vw",
        "colab_type": "code",
        "outputId": "e8e587ae-7ebf-47fe-8846-9dee85739923",
        "colab": {
          "base_uri": "https://localhost:8080/",
          "height": 34
        }
      },
      "source": [
        "len(positive_covid)"
      ],
      "execution_count": 18,
      "outputs": [
        {
          "output_type": "execute_result",
          "data": {
            "text/plain": [
              "145"
            ]
          },
          "metadata": {
            "tags": []
          },
          "execution_count": 18
        }
      ]
    },
    {
      "cell_type": "code",
      "metadata": {
        "id": "OK-fmAVNOYuG",
        "colab_type": "code",
        "outputId": "40b5fe07-38bd-482d-a6f3-cb442b4a4c77",
        "colab": {
          "base_uri": "https://localhost:8080/",
          "height": 218
        }
      },
      "source": [
        "listtt"
      ],
      "execution_count": 19,
      "outputs": [
        {
          "output_type": "execute_result",
          "data": {
            "text/plain": [
              "0      auntminnie-a-2020_01_28_23_51_6665_2020_01_28_...\n",
              "1      auntminnie-b-2020_01_28_23_51_6665_2020_01_28_...\n",
              "2      auntminnie-c-2020_01_28_23_51_6665_2020_01_28_...\n",
              "3      auntminnie-d-2020_01_28_23_51_6665_2020_01_28_...\n",
              "4                                  nejmc2001573_f1a.jpeg\n",
              "                             ...                        \n",
              "352                                     extubation-8.jpg\n",
              "353                                    extubation-13.jpg\n",
              "356                                        16708_1_1.jpg\n",
              "357                                        16708_4_1.jpg\n",
              "358                                        16708_5_1.jpg\n",
              "Name: filename, Length: 145, dtype: object"
            ]
          },
          "metadata": {
            "tags": []
          },
          "execution_count": 19
        }
      ]
    },
    {
      "cell_type": "markdown",
      "metadata": {
        "id": "10Q9GfMeXT7i",
        "colab_type": "text"
      },
      "source": [
        "And now we are going to use utility function to parse COVID-19 images into training forlder "
      ]
    },
    {
      "cell_type": "code",
      "metadata": {
        "id": "xhfe9hJoXQPj",
        "colab_type": "code",
        "colab": {}
      },
      "source": [
        "def parse_covid(metadata, img_dir, target_dir='covid'):\n",
        "  print(\"Start parsing the images from {} directory\".format(img_dir))\n",
        "  img_files= metadata['filename']\n",
        "  if not os.path.exists(target_dir):\n",
        "    os.mkdir(target_dir)\n",
        "  for img, idx in zip(img_files, range(len(metadata))):\n",
        "    src = os.path.join(img_dir,img)\n",
        "    dst = os.path.join(target_dir,str(idx)+'.png')\n",
        "    shutil.copyfile(src, dst)\n",
        "  print('Done copying {0} images from {1} directory'.format(len(metadata), img_dir))"
      ],
      "execution_count": 0,
      "outputs": []
    },
    {
      "cell_type": "code",
      "metadata": {
        "id": "95ITjqlEW71G",
        "colab_type": "code",
        "outputId": "bcf86ca6-b2c5-496c-b46e-a6974ad72592",
        "colab": {
          "base_uri": "https://localhost:8080/",
          "height": 50
        }
      },
      "source": [
        "parse_covid(positive_covid, 'covid-chestxray-dataset/images')"
      ],
      "execution_count": 21,
      "outputs": [
        {
          "output_type": "stream",
          "text": [
            "Start parsing the images from covid-chestxray-dataset/images directory\n",
            "Done copying 145 images from covid-chestxray-dataset/images directory\n"
          ],
          "name": "stdout"
        }
      ]
    },
    {
      "cell_type": "markdown",
      "metadata": {
        "id": "VQ_wKDC6mBmM",
        "colab_type": "text"
      },
      "source": [
        "**I will sample 120 images of normal patients from RSNA Pneumonia dataset**\n",
        "\n",
        "So.. \n",
        "\n",
        "`Normal`: 120 images\n",
        "`COVID-19`: 142 images "
      ]
    },
    {
      "cell_type": "markdown",
      "metadata": {
        "id": "3e-ZS6RrWDTH",
        "colab_type": "text"
      },
      "source": [
        "# Data preprocessing"
      ]
    },
    {
      "cell_type": "code",
      "metadata": {
        "id": "UpwEdXXzZX-s",
        "colab_type": "code",
        "colab": {}
      },
      "source": [
        "class Train_val_split:\n",
        "  def __init__(self, split_size=0.15):\n",
        "    self.split_size = split_size\n",
        "    self.train_dir = 'train'\n",
        "    self.val_dir = 'validation'\n",
        "    if not os.path.exists(self.train_dir):\n",
        "      os.mkdir(self.train_dir)\n",
        "    if not os.path.exists(self.val_dir):\n",
        "      os.mkdir(self.val_dir)\n",
        "\n",
        "  def split_class(self,target_class):\n",
        "    if not os.path.exists(self.train_dir+'/'+target_class):\n",
        "      os.mkdir(self.train_dir+'/'+target_class)\n",
        "    if not os.path.exists(self.val_dir+'/'+target_class):\n",
        "      os.mkdir(self.val_dir+'/'+target_class)\n",
        "    \n",
        "    data_indices = list(range(len(os.listdir(target_class))))\n",
        "    random.shuffle(data_indices) \n",
        "    split_size = (1-self.split_size)*len(data_indices)\n",
        "    training_idx = data_indices[:int(split_size)]\n",
        "    validation_idx = data_indices[int(split_size):]\n",
        "\n",
        "    for idx in training_idx:\n",
        "      src = os.path.join(target_class, str(idx)+'.png')\n",
        "      dst = os.path.join(self.train_dir+'/'+target_class,target_class+'_'+str(idx)+'.png')\n",
        "      shutil.copyfile(src, dst)\n",
        "    \n",
        "    for idx in validation_idx:\n",
        "      src = os.path.join(target_class, str(idx)+'.png')\n",
        "      dst = os.path.join(self.val_dir+'/'+target_class,target_class+'_'+str(idx)+'.png')\n",
        "      shutil.copyfile(src, dst)"
      ],
      "execution_count": 0,
      "outputs": []
    },
    {
      "cell_type": "code",
      "metadata": {
        "id": "ZlxC2Ja_SMfL",
        "colab_type": "code",
        "colab": {}
      },
      "source": [
        "split_data = Train_val_split(0.15)"
      ],
      "execution_count": 0,
      "outputs": []
    },
    {
      "cell_type": "code",
      "metadata": {
        "id": "lXXvO6hdTYrL",
        "colab_type": "code",
        "colab": {}
      },
      "source": [
        "split_data.split_class('covid')\n",
        "split_data.split_class('normal')"
      ],
      "execution_count": 0,
      "outputs": []
    },
    {
      "cell_type": "code",
      "metadata": {
        "id": "l7qzjLuWZEOv",
        "colab_type": "code",
        "outputId": "d63c5e84-f7fc-490f-997d-09faef7f1939",
        "colab": {
          "base_uri": "https://localhost:8080/",
          "height": 34
        }
      },
      "source": [
        "len(os.listdir('train/normal')), len(os.listdir('train/covid'))"
      ],
      "execution_count": 33,
      "outputs": [
        {
          "output_type": "execute_result",
          "data": {
            "text/plain": [
              "(102, 123)"
            ]
          },
          "metadata": {
            "tags": []
          },
          "execution_count": 33
        }
      ]
    },
    {
      "cell_type": "code",
      "metadata": {
        "id": "TH_QbCDsZMFs",
        "colab_type": "code",
        "outputId": "96613f1f-a988-4b54-d44e-cc0b3bf617e3",
        "colab": {
          "base_uri": "https://localhost:8080/",
          "height": 34
        }
      },
      "source": [
        "len(os.listdir('validation/normal')), len(os.listdir('validation/covid'))"
      ],
      "execution_count": 34,
      "outputs": [
        {
          "output_type": "execute_result",
          "data": {
            "text/plain": [
              "(18, 22)"
            ]
          },
          "metadata": {
            "tags": []
          },
          "execution_count": 34
        }
      ]
    },
    {
      "cell_type": "markdown",
      "metadata": {
        "id": "vNFTn-eUWRZJ",
        "colab_type": "text"
      },
      "source": [
        "# Data loaders"
      ]
    },
    {
      "cell_type": "code",
      "metadata": {
        "id": "YbTonS4r7650",
        "colab_type": "code",
        "colab": {}
      },
      "source": [
        ""
      ],
      "execution_count": 0,
      "outputs": []
    },
    {
      "cell_type": "markdown",
      "metadata": {
        "id": "WnLgGiafWd42",
        "colab_type": "text"
      },
      "source": [
        "# Classification Model"
      ]
    },
    {
      "cell_type": "code",
      "metadata": {
        "id": "vRq4biQBWgO6",
        "colab_type": "code",
        "colab": {}
      },
      "source": [
        ""
      ],
      "execution_count": 0,
      "outputs": []
    },
    {
      "cell_type": "markdown",
      "metadata": {
        "id": "TZfyA8LtWhWq",
        "colab_type": "text"
      },
      "source": [
        "#Model Evaluation"
      ]
    },
    {
      "cell_type": "code",
      "metadata": {
        "id": "j8ueRFt0Wjr2",
        "colab_type": "code",
        "colab": {}
      },
      "source": [
        ""
      ],
      "execution_count": 0,
      "outputs": []
    },
    {
      "cell_type": "markdown",
      "metadata": {
        "id": "p721gnQSWlHq",
        "colab_type": "text"
      },
      "source": [
        "# References"
      ]
    }
  ]
}